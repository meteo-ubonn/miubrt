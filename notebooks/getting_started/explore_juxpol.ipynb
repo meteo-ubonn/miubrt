{
 "cells": [
  {
   "cell_type": "markdown",
   "metadata": {},
   "source": [
    "This notebook is part of [miubrt](https://github.com/meteo-ubonn/miubrt).\n",
    "\n",
    "Copyright (c) [miubrt developers](https://github.com/meteo-ubonn/miubrt/blob/main/CONTRIBUTORS.txt). \n",
    "Distributed under the MIT License. See [LICENSE.txt](https://github.com/meteo-ubonn/miubrt/blob/main/LICENSE.txt) for more info."
   ]
  },
  {
   "cell_type": "markdown",
   "metadata": {},
   "source": [
    "# Create NetCDF4 output - Explore JuXPol\n",
    "<div class=\"alert alert-info\">\n",
    "\n",
    "**User Info** <br>\n",
    " Global Data - User Input \n",
    " \n",
    " start_time, end_time, location and sweep\n",
    "\n",
    " location = \"BoXPol\" or \"JuXPol\"  (X-band radar)\n",
    " \n",
    " elev_id  = 0 ... 9   (IDs for elevation angles)\n",
    "    \n",
    " For BoXPol, the elevation folders name change in 2017 (check for error message)\n",
    "   \n",
    "</div>\n",
    " "
   ]
  },
  {
   "cell_type": "code",
   "execution_count": null,
   "metadata": {},
   "outputs": [],
   "source": [
    "import sys\n",
    "import warnings\n",
    "\n",
    "warnings.filterwarnings(\"ignore\")"
   ]
  },
  {
   "cell_type": "code",
   "execution_count": null,
   "metadata": {},
   "outputs": [],
   "source": [
    "import datetime as dt\n",
    "import numpy as np\n",
    "import dask\n",
    "import wradlib as wrl\n",
    "import xarray as xr"
   ]
  },
  {
   "cell_type": "code",
   "execution_count": null,
   "metadata": {},
   "outputs": [],
   "source": [
    "# for using local development version, uncomment next lines otherwise installed `miubrt` version will be used\n",
    "# miubrt_dir = \"../../\"\n",
    "# if sys.path[0] != miubrt_dir:\n",
    "#     sys.path.insert(0, \"../../\")"
   ]
  },
  {
   "cell_type": "code",
   "execution_count": null,
   "metadata": {},
   "outputs": [],
   "source": [
    "import miubrt as mrt\n",
    "\n",
    "mrt.version.version"
   ]
  },
  {
   "cell_type": "markdown",
   "metadata": {},
   "source": [
    "# Global Data - USER INPUT"
   ]
  },
  {
   "cell_type": "code",
   "execution_count": null,
   "metadata": {},
   "outputs": [],
   "source": [
    "start_time = dt.datetime(2015, 7, 5, 14, 0)\n",
    "end_time = dt.datetime(2015, 7, 5, 14, 59, 59)\n",
    "location = \"JuXPol\"\n",
    "elev_id = 0"
   ]
  },
  {
   "cell_type": "code",
   "execution_count": null,
   "metadata": {},
   "outputs": [],
   "source": [
    "if location == \"BoXPol\":\n",
    "    if start_time < dt.datetime(2017, 4, 16):\n",
    "        snames = [\n",
    "            \"n_ppi_010deg\",\n",
    "            \"ppi_1p5deg\",\n",
    "            \"ppi_2p4deg\",\n",
    "            \"ppi_3p4deg\",\n",
    "            \"n_ppi_045deg\",\n",
    "            \"n_ppi_082deg\",\n",
    "            \"n_ppi_110deg\",\n",
    "            \"n_ppi_140deg\",\n",
    "            \"n_ppi_180deg\",\n",
    "            \"n_ppi_280deg\",\n",
    "        ]\n",
    "    else:\n",
    "        snames = [\n",
    "            \"n_ppi_010deg\",\n",
    "            \"n_ppi_020deg\",\n",
    "            \"n_ppi_031deg\",\n",
    "            \"n_ppi_045deg\",\n",
    "            \"n_ppi_060deg\",\n",
    "            \"n_ppi_082deg\",\n",
    "            \"n_ppi_110deg\",\n",
    "            \"n_ppi_140deg\",\n",
    "            \"n_ppi_180deg\",\n",
    "            \"n_ppi_280deg\",\n",
    "        ]\n",
    "    sname = snames[elev_id]\n",
    "    sweep = 0\n",
    "elif location == \"JuXPol\":\n",
    "    sname = \"DWD_Vol_2\"\n",
    "    sweep = elev_id"
   ]
  },
  {
   "cell_type": "code",
   "execution_count": null,
   "metadata": {},
   "outputs": [],
   "source": [
    "output_path = \"\""
   ]
  },
  {
   "cell_type": "markdown",
   "metadata": {},
   "source": [
    "# Create Netcdf Dataset of wanted radar data"
   ]
  },
  {
   "cell_type": "code",
   "execution_count": null,
   "metadata": {},
   "outputs": [],
   "source": [
    "fname_raw = mrt.io.create_netcdf_dataset(\n",
    "    location,\n",
    "    sname,\n",
    "    start_time,\n",
    "    end_time,\n",
    "    sweep,\n",
    "    outpath=output_path,\n",
    "    engine=\"h5netcdf\",\n",
    "    chunks=None,\n",
    ")\n",
    "fname_raw"
   ]
  },
  {
   "cell_type": "markdown",
   "metadata": {},
   "source": [
    "# Load and Explore Dataset"
   ]
  },
  {
   "cell_type": "code",
   "execution_count": null,
   "metadata": {},
   "outputs": [],
   "source": [
    "import matplotlib as mpl\n",
    "import hvplot\n",
    "import hvplot.xarray\n",
    "import holoviews as hv"
   ]
  },
  {
   "cell_type": "markdown",
   "metadata": {},
   "source": [
    "## Load"
   ]
  },
  {
   "cell_type": "code",
   "execution_count": null,
   "metadata": {},
   "outputs": [],
   "source": [
    "swp = xr.open_dataset(fname_raw, chunks={\"time\": 1})"
   ]
  },
  {
   "cell_type": "code",
   "execution_count": null,
   "metadata": {},
   "outputs": [],
   "source": [
    "swp = swp.assign_coords(elevation=swp.elevation.median(\"time\"))"
   ]
  },
  {
   "cell_type": "markdown",
   "metadata": {},
   "source": [
    "## Georeference"
   ]
  },
  {
   "cell_type": "code",
   "execution_count": null,
   "metadata": {},
   "outputs": [],
   "source": [
    "swp = swp.pipe(wrl.georef.georeference_dataset)"
   ]
  },
  {
   "cell_type": "markdown",
   "metadata": {},
   "source": [
    "## Interactive Exploration"
   ]
  },
  {
   "cell_type": "code",
   "execution_count": null,
   "metadata": {},
   "outputs": [],
   "source": [
    "swp = swp.chunk()"
   ]
  },
  {
   "cell_type": "code",
   "execution_count": null,
   "metadata": {},
   "outputs": [],
   "source": [
    "dbz_plot = swp.hvplot.quadmesh(\n",
    "    groupby=\"time\",\n",
    "    x=\"x\",\n",
    "    y=\"y\",\n",
    "    z=\"DBZH\",\n",
    "    rasterize=True,\n",
    "    clim=(-20, 50),\n",
    "    cmap=\"turbo\",\n",
    "    frame_width=500,\n",
    "    aspect=1,\n",
    ")\n",
    "\n",
    "dbz_plot = dbz_plot.options(color_levels=list(np.arange(-20, 51, 2)))\n",
    "dbz_plot"
   ]
  }
 ],
 "metadata": {
  "kernelspec": {
   "display_name": "Python 3 (ipykernel)",
   "language": "python",
   "name": "python3"
  },
  "language_info": {
   "codemirror_mode": {
    "name": "ipython",
    "version": 3
   },
   "file_extension": ".py",
   "mimetype": "text/x-python",
   "name": "python",
   "nbconvert_exporter": "python",
   "pygments_lexer": "ipython3",
   "version": "3.10.5"
  },
  "widgets": {
   "application/vnd.jupyter.widget-state+json": {
    "state": {},
    "version_major": 2,
    "version_minor": 0
   }
  }
 },
 "nbformat": 4,
 "nbformat_minor": 4
}
