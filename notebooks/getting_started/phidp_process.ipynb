{
 "cells": [
  {
   "cell_type": "markdown",
   "metadata": {},
   "source": [
    "This notebook is part of [miubrt](https://github.com/meteo-ubonn/miubrt).\n",
    "\n",
    "Copyright (c) [miubrt developers](https://github.com/meteo-ubonn/miubrt/blob/main/CONTRIBUTORS.txt). \n",
    "Distributed under the MIT License. See [LICENSE.txt](https://github.com/meteo-ubonn/miubrt/blob/main/LICENSE.txt) for more info."
   ]
  },
  {
   "cell_type": "markdown",
   "metadata": {},
   "source": [
    "# Estimate specific and differential attenuation\n",
    "<div class=\"alert alert-info\">\n",
    "\n",
    "**User Info** <br>\n",
    " Global Data - User Input \n",
    "   start_time, end_time, location, par, fil_create, thrnan, thrbin, fname_ppi, fname_ver\n",
    "   location = \"BoXPol\" or \"JuXPol\"  (X-band radar)\n",
    "   par contains multiple attributes which needs to be tuned\n",
    "    \n",
    " PHIDP processing\n",
    "    \n",
    " This is a research code!\n",
    "   \n",
    "</div>\n",
    " "
   ]
  },
  {
   "cell_type": "code",
   "execution_count": 110,
   "metadata": {},
   "outputs": [],
   "source": [
    "import sys\n",
    "import warnings\n",
    "warnings.filterwarnings('ignore')"
   ]
  },
  {
   "cell_type": "code",
   "execution_count": 111,
   "metadata": {},
   "outputs": [],
   "source": [
    "import wradlib\n",
    "import datetime as dt\n",
    "import numpy as np\n",
    "import scipy\n",
    "from scipy import stats\n",
    "from scipy import signal\n",
    "import dask\n",
    "import wradlib as wrl\n",
    "import xarray as xr\n",
    "#"
   ]
  },
  {
   "cell_type": "code",
   "execution_count": 112,
   "metadata": {},
   "outputs": [],
   "source": [
    "# for using local development version, uncomment next lines otherwise installed `miubrt` version will be used\n",
    "miubrt_dir = \"../../\"\n",
    "if sys.path[0] != miubrt_dir:\n",
    "     sys.path.insert(0, \"../../\")"
   ]
  },
  {
   "cell_type": "code",
   "execution_count": 113,
   "metadata": {},
   "outputs": [],
   "source": [
    "import miubrt as mrt"
   ]
  },
  {
   "cell_type": "markdown",
   "metadata": {},
   "source": [
    "# Global Data - USER INPUT"
   ]
  },
  {
   "cell_type": "code",
   "execution_count": 114,
   "metadata": {},
   "outputs": [],
   "source": [
    "start_time = dt.datetime(2015, 7, 5, 0, 0)\n",
    "end_time   = dt.datetime(2015, 7, 5, 23, 59, 59)\n",
    "location   = \"BoXPol\"\n",
    "zh_offset  = -3.0 #[dbZ]\n",
    "zdr_offset = -1.03 #[dB]\n",
    "smoothlen  = 2000. #7000. # phidp scaling parameter for smoothing\n",
    "\n",
    "#fname_ppi  = \"/automount/cluma04/pshrestha/netcdf4/20150705/BoXPol_010_20150705_1400_1730.nc\"\n",
    "fname_ppi  = \"/automount/cluma04/pshrestha/netcdf4/20150705/BoXPol_015_20150705_1400_1730.nc\"\n",
    "# User Input End #"
   ]
  },
  {
   "cell_type": "markdown",
   "metadata": {},
   "source": [
    "# Load and Explore Dataset"
   ]
  },
  {
   "cell_type": "code",
   "execution_count": 115,
   "metadata": {},
   "outputs": [],
   "source": [
    "import matplotlib as mpl\n",
    "import matplotlib.pyplot as plt\n",
    "plt.rcParams.update({'font.size': 16})\n",
    "from matplotlib import gridspec\n",
    "from scipy.optimize import curve_fit\n",
    "import hvplot\n",
    "import hvplot.xarray\n",
    "import holoviews as hv"
   ]
  },
  {
   "cell_type": "markdown",
   "metadata": {},
   "source": [
    "## Load"
   ]
  },
  {
   "cell_type": "code",
   "execution_count": 116,
   "metadata": {},
   "outputs": [],
   "source": [
    "swp = xr.open_dataset(fname_ppi,chunks={\"time\": 12})\n",
    "swp = swp.pipe(wrl.georef.georeference_dataset)\n",
    "swp  = swp.chunk()"
   ]
  },
  {
   "cell_type": "markdown",
   "metadata": {},
   "source": [
    "## Calibrate Zh/Zdr"
   ]
  },
  {
   "cell_type": "code",
   "execution_count": 117,
   "metadata": {},
   "outputs": [
    {
     "name": "stdout",
     "output_type": "stream",
     "text": [
      "2015-07-05T15:43:35.000000000\n"
     ]
    }
   ],
   "source": [
    "t = 20 #15\n",
    "# Extract Zh, Zdr, RHOhv, PHIdp and VRADh for one time snapshot\n",
    "zh    = swp.DBZH[t].load() - zh_offset\n",
    "zdr   = swp.ZDR[t].load() - zdr_offset\n",
    "rhohv = swp.RHOHV[t].load()\n",
    "vradh = swp.VRADH[t]\n",
    "# One need to load the xarray data if it is to be updated\n",
    "phidp = swp.PHIDP[t].load()\n",
    "print(swp.time[t].values)"
   ]
  },
  {
   "cell_type": "code",
   "execution_count": 118,
   "metadata": {},
   "outputs": [
    {
     "name": "stdout",
     "output_type": "stream",
     "text": [
      "Filter :  2000.0 10 6 100.0\n",
      "Total data for system offset estimate:  14955\n",
      "System Offset =  -65.92172\n",
      "Azimuth 270.5\n"
     ]
    }
   ],
   "source": [
    "# Obtain range resolution [m] and dimensions of azimuth and range \n",
    "rangep = swp.range.load()\n",
    "dr  = np.array((rangep[1] - rangep[0]))\n",
    "na = swp.azimuth.size\n",
    "nrange = swp.range.size\n",
    "\n",
    "# Obtain initial estimates of Kdp, indexing in Python, [1:4] is [1:3]\n",
    "kdps = np.empty([na, nrange])\n",
    "kdps[:,1:nrange] =  phidp.diff(\"range\")\n",
    "\n",
    "kdps2 = np.empty([na, nrange])\n",
    "kdps2[:,0:nrange-1] = phidp.diff(\"range\")\n",
    "\n",
    "# Find indices of undesirable PHIDP and set is as NaN\n",
    "phidp1    = phidp.where(((vradh-zh)<2) & (rhohv > 0.87) & (kdps>-15) & \n",
    "                  (kdps<15) & (kdps2>-15) & (kdps2<15) & (zdr<5.5) &\n",
    "                  (zdr>-6) & (zdr < (1.42 + 0.0661*zh**2 + 0.000485*zh**2)) &\n",
    "                  (zh>5))\n",
    "\n",
    "# Smoothing ratio\n",
    "len1 = np.array(smoothlen/dr/2.)\n",
    "len2 = np.array(len1/1.5)\n",
    "len1 = len1.astype(int)\n",
    "len2 = len2.astype(int)\n",
    "print(\"Filter : \" , smoothlen,len1, len2, dr)\n",
    "\n",
    "#Calculuate rolling median (smoothlen) and box car average (3 gates)\n",
    "nlen = len1*2\n",
    "nlen = nlen.astype(int)\n",
    "phidp2 = phidp1.rolling(range=nlen, center=True).median(skipna=True)\n",
    "phidp3 = phidp2.rolling(range=3, center=True).mean(skipna=True)\n",
    "\n",
    "# System offset estimate based on azimuth_median of range_median PHIDP values\n",
    "phidp4 = phidp.where((phidp<3) & (zdr < 3) & (zdr>-3) & \n",
    "                  (rhohv>0.97))\n",
    "phi0_range   = phidp4.median(\"range\")\n",
    "phi0 = np.nanmedian(phidp4)\n",
    "# Get array of nan (0) and finite values (1)\n",
    "phib   = xr.where(np.isnan(phidp4), 0, 1) \n",
    "nphib  = np.sum(phib) \n",
    "if (nphib != 0):\n",
    "    print(\"Total data for system offset estimate: \" ,nphib.values)\n",
    "    print(\"System Offset = \", phi0)\n",
    "\n",
    "    # Subtract system offset\n",
    "    phidp5 = phidp3 - phi0\n",
    "else:\n",
    "    phidp5 = -92\n",
    "    print(\"No PHI0 found\")\n",
    "    \n",
    "#Remove clutter in the first 20 gates\n",
    "phidp6 = np.empty([na, nrange])\n",
    "phidp6[:,0:10] = xr.where(phidp5[:,0:10]>10,np.nan,phidp5[:,0:10])\n",
    "phidp6[:,10:20] = xr.where(phidp5[:,10:20]>20,np.nan,phidp5[:,10:20])\n",
    "phidp6[:,20:] = phidp5[:,20:]\n",
    "\n",
    "####\n",
    "az=270 #265\n",
    "phidp6 = mrt.pol.phidp_filter(phidp6,rhohv,len1,len2,na,nrange,az)\n",
    "###\n",
    "# Remove below zero values\n",
    "phidp6 = xr.where(phidp6 < 0, 0, phidp6)\n",
    "print(\"Azimuth\" ,swp.azimuth[az].values)"
   ]
  },
  {
   "cell_type": "code",
   "execution_count": 119,
   "metadata": {},
   "outputs": [
    {
     "name": "stdout",
     "output_type": "stream",
     "text": [
      "[ 39 254 264 265 266 267 268 269 271 272 273 274 275 276 277 278 279 280\n",
      " 281 282 283 284 285 286 287 288 289 290 291 292 293 294 295 296 297 298\n",
      " 299 300 301 302 303 304 305 306 307 308 309 310 311 312 313 314 315 316\n",
      " 317 318 319 320 321 322 323 324 325 326 327 328 329 330 331 332 333 334]\n"
     ]
    },
    {
     "data": {
      "image/png": "[encoded data removed]",
      "text/plain": [
       "<Figure size 432x288 with 1 Axes>"
      ]
     },
     "metadata": {
      "needs_background": "light"
     },
     "output_type": "display_data"
    }
   ],
   "source": [
    "#Filter rays for computation with minimum 100 values\n",
    "phib_nan   = xr.where(np.isnan(phidp6), 0, 1) \n",
    "zh    = xr.where(np.isnan(phidp6), np.nan, zh) \n",
    "zdr    = xr.where(np.isnan(phidp6), np.nan, zdr)\n",
    "zh_corr = zh + 0.28* phidp6\n",
    "zdr_corr = zdr + 0.03 * phidp6\n",
    "\n",
    "phib_sum  = np.sum(phib_nan, axis=1)\n",
    "ind_phidp = np.where(phib_sum > 100)[0]\n",
    "print(ind_phidp)\n",
    "az = 270 #ind_phidp[11] #265 #\n",
    "rangekm = rangep/1000.\n",
    "#plt.plot(rangekm, phidp_orig[az,:], '.', color='gray')\n",
    "#plt.plot(rangekm, phidp[az,:], '-', color='red')\n",
    "plt.plot(rangekm, zh[az,:], '-', color='green')\n",
    "plt.plot(rangekm, zh_corr[az,:], '-.', color='green')\n",
    "plt.plot(rangekm, zdr[az,:], '-', color='blue')\n",
    "plt.plot(rangekm, zdr_corr[az,:], '-.', color='blue')\n",
    "plt.plot(rangekm, phidp6[az,:], '-', color='black')\n",
    "titstr = \"Time \" + str(swp.time[t].values) + \" Azimuth \" + str(swp.azimuth[az].values)\n",
    "plt.title(titstr)\n",
    "\n",
    "plt.xlim((0,30))\n",
    "#plt.ylim((-90,-20))\n",
    "plt.show()       "
   ]
  },
  {
   "cell_type": "code",
   "execution_count": null,
   "metadata": {},
   "outputs": [],
   "source": [
    "\n",
    "\n",
    "\n",
    "\n"
   ]
  },
  {
   "cell_type": "code",
   "execution_count": null,
   "metadata": {},
   "outputs": [],
   "source": []
  },
  {
   "cell_type": "code",
   "execution_count": null,
   "metadata": {},
   "outputs": [],
   "source": []
  }
 ],
 "metadata": {
  "kernelspec": {
   "display_name": "prom [conda env:prom]",
   "language": "python",
   "name": "conda-env-prom-py"
  },
  "language_info": {
   "codemirror_mode": {
    "name": "ipython",
    "version": 3
   },
   "file_extension": ".py",
   "mimetype": "text/x-python",
   "name": "python",
   "nbconvert_exporter": "python",
   "pygments_lexer": "ipython3",
   "version": "3.8.3"
  }
 },
 "nbformat": 4,
 "nbformat_minor": 4
}
