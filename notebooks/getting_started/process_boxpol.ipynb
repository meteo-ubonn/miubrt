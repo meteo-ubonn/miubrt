{
 "cells": [
  {
   "cell_type": "markdown",
   "metadata": {},
   "source": [
    "This notebook is part of [miubrt](https://github.com/meteo-ubonn/miubrt).\n",
    "\n",
    "Copyright (c) [miubrt developers](https://github.com/meteo-ubonn/miubrt/blob/main/CONTRIBUTORS.txt). \n",
    "Distributed under the MIT License. See [LICENSE.txt](https://github.com/meteo-ubonn/miubrt/blob/main/LICENSE.txt) for more info."
   ]
  },
  {
   "cell_type": "markdown",
   "metadata": {},
   "source": [
    "# Process netcdf4 X-band radar data\n",
    "\n",
    "We will use the netcdf4 file for one elevation angle. The filter uses a threshold value of RHOHV and melting layer height for masking, which the user needs to provide. Depending on the threshold value, the filter will remove ground clutter and non-metorological signals. "
   ]
  },
  {
   "cell_type": "code",
   "execution_count": null,
   "metadata": {},
   "outputs": [],
   "source": [
    "import sys\n",
    "import warnings\n",
    "warnings.filterwarnings('ignore')"
   ]
  },
  {
   "cell_type": "code",
   "execution_count": null,
   "metadata": {},
   "outputs": [],
   "source": [
    "import numpy as np\n",
    "import dask\n",
    "import glob\n",
    "import wradlib as wrl\n",
    "import xarray as xr"
   ]
  },
  {
   "cell_type": "code",
   "execution_count": null,
   "metadata": {},
   "outputs": [],
   "source": [
    "# for using local development version, uncomment next lines otherwise installed `miubrt` version will be used\n",
    "miubrt_dir = \"../../\"\n",
    "if sys.path[0] != miubrt_dir:\n",
    "     sys.path.insert(0, \"../../\")"
   ]
  },
  {
   "cell_type": "code",
   "execution_count": null,
   "metadata": {},
   "outputs": [],
   "source": [
    "import miubrt as mrt"
   ]
  },
  {
   "cell_type": "code",
   "execution_count": null,
   "metadata": {},
   "outputs": [],
   "source": [
    "import matplotlib as mpl\n",
    "import matplotlib.pyplot as plt\n",
    "plt.rcParams.update({'font.size': 16})\n",
    "from matplotlib import gridspec\n",
    "import hvplot\n",
    "import hvplot.xarray\n",
    "import holoviews as hv"
   ]
  },
  {
   "cell_type": "markdown",
   "metadata": {},
   "source": [
    "## User Input"
   ]
  },
  {
   "cell_type": "code",
   "execution_count": null,
   "metadata": {},
   "outputs": [],
   "source": [
    "npath     = \"/data/hubhome/pshrestha/netcdf4/20150705\"\n",
    "npath     = \"/data/hubhome/pshrestha/netcdf4/20160513\"\n",
    "npath     = \"/data/hubhome/pshrestha/netcdf4/20170706\"\n",
    "location  = \"BoXPol\"\n",
    "elev_id   = 0\n",
    "rhohv_th  = 0.7\n",
    "z_melt    = 4300. #4500.\n",
    "z_low     = 1000.\n",
    "z_up      = 7000."
   ]
  },
  {
   "cell_type": "markdown",
   "metadata": {},
   "source": [
    "## Load, Dask and Georeference netcdf4 data"
   ]
  },
  {
   "cell_type": "code",
   "execution_count": null,
   "metadata": {},
   "outputs": [],
   "source": [
    "fil_paths = sorted(glob.glob(npath+\"/\" +location + \"*\"))\n",
    "fil_path  = fil_paths[elev_id]\n",
    "swp = xr.open_dataset(fil_path, chunks={\"time\": 12})\n",
    "#\n",
    "swp = swp.pipe(wrl.georef.georeference_dataset)\n",
    "swp = swp.chunk()\n",
    "print('Processed netcdf4 file ', fil_path)\n",
    "#\n",
    "#Some JuxPol data have time also as a dimension for elevation and z co-ordinate\n",
    "nsize = len(swp.elevation.dims)\n",
    "if nsize == 1:\n",
    "    elv_angle = '%.2f' %swp.elevation.values[0]\n",
    "    z = swp['z']\n",
    "elif nsize==2:\n",
    "    elv_angle = '%.2f' %swp.elevation.values[0,0]\n",
    "    z2 = swp['z']\n",
    "    z  = z2[0,:,:]\n",
    "elv_str   = swp.elevation.standard_name + ' ' + elv_angle + ' ' + swp.elevation.units\n",
    "print(elv_str)"
   ]
  },
  {
   "cell_type": "markdown",
   "metadata": {},
   "source": [
    "## Filter polarimetric moments"
   ]
  },
  {
   "cell_type": "code",
   "execution_count": null,
   "metadata": {},
   "outputs": [],
   "source": [
    "i=1\n",
    "if (i==0):\n",
    "    zh_u  = swp['DBZH'].where((swp.z > z_melt))\n",
    "    zh    = swp['DBZH'].where((swp.RHOHV >= rhohv_th) & (swp.z <= z_melt),zh_u)\n",
    "    zdr_u = swp['ZDR'].where((swp.z > z_melt))\n",
    "    zdr   = swp['ZDR'].where((swp.RHOHV >= rhohv_th) & (swp.z <= z_melt),zdr_u)\n",
    "    kdp_u = swp['KDP'].where((swp.z > z_melt))\n",
    "    kdp   = swp['KDP'].where((swp.RHOHV >= rhohv_th) & (swp.z <= z_melt),kdp_u)\n",
    "    rhohv_u = swp['RHOHV'].where((swp.z > z_melt))\n",
    "    rhohv   = swp['RHOHV'].where((swp.RHOHV >= rhohv_th) & (swp.z <= z_melt),rhohv_u)\n",
    "    phidp_u = swp['PHIDP'].where((swp.z > z_melt))\n",
    "    phidp   = swp['PHIDP'].where((swp.RHOHV >= rhohv_th) & (swp.z <= z_melt),phidp_u)\n",
    "elif (i==1):\n",
    "    zh    = swp['DBZH']\n",
    "    zdr   = swp['ZDR']\n",
    "    kdp   = swp['KDP']\n",
    "    rhohv   = swp['RHOHV']\n",
    "    phidp   = swp['PHIDP']\n",
    "#zh.data\n",
    "\n",
    "#offset phidp"
   ]
  },
  {
   "cell_type": "markdown",
   "metadata": {},
   "source": [
    "## Diagnostic Plots"
   ]
  },
  {
   "cell_type": "code",
   "execution_count": null,
   "metadata": {},
   "outputs": [],
   "source": [
    "colors = ('#00f8f8', '#01b8fb', '#0000fa', '#00ff00', '#00d000', '#009400', \n",
    "          '#ffff00', '#f0cc00', '#ff9e00', '#ff0000', '#e40000', '#cc0000', \n",
    "          '#ff00ff', '#a06cd5')\n",
    "\n",
    "dbz_levels=  [-10, -5, 0, 5, 10, 15, 20, 25, 30, 35, 40, 45, 50, 55, 60]\n",
    "zdr_levels = [-1, 0, 0.1, 0.2, 0.3, 0.4, 0.5, 0.6, 0.8, 1.0, 1.2, 1.5, 2.0, 2.5, 3.0]\n",
    "kdp_levels = [-1., -0.5, -0.1, 0.0, 0.05, 0.10, 0.20, 0.30, 0.40, 0.60, 0.80, 1., 2., 3.]\n",
    "rho_levels = [0.2,0.4,0.5, 0.7, 0.8, 0.94, 0.95, 0.96, 0.97, 0.98, 0.985, 0.99, 0.995, 1.0] \n",
    "#0.7,0.8, 0.85, 0.9, 0.92\n",
    "#phi_levels = [0, 5, 10, 15, 20, 25, 30, 40, 50, 60, 70, 80, 90, 100]\n",
    "#phi_levels = [100, 105, 110, 115, 120, 125, 130, 140, 150, 160, 170, 180, 190, 200]\n",
    "phi_levels = [-100, -90, -80, -70, -60, -50, -40, -30, 25, -20, -15, -10, -5, 0]"
   ]
  },
  {
   "cell_type": "markdown",
   "metadata": {},
   "source": [
    "## Static Plots"
   ]
  },
  {
   "cell_type": "code",
   "execution_count": null,
   "metadata": {},
   "outputs": [],
   "source": [
    "# Check for radar beam elevation\n",
    "#fig, ax = plt.subplots()\n",
    "#ax.plot(swp.range, z[0,:])\n",
    "#ax.set(xlabel='X (km)', ylabel='Z (km)',\n",
    "#       title=elv_str)\n",
    "#ax.grid()"
   ]
  },
  {
   "cell_type": "code",
   "execution_count": null,
   "metadata": {},
   "outputs": [],
   "source": [
    "# Polarimetric moments\n",
    "# For static plots, use standard time\n",
    "t    = 43 #14\n",
    "boxminmax = [-10000,130000,-60000,80000]\n",
    "#boxminmax = [-30000,60000,-60000,40000]\n",
    "#JUXboxminmax = [-50000,20000,-50000,20000]\n",
    "#boxminmax =  [-10000,0,-50000,-40000] #zoom JuxPol elev_id=3, t=14\n",
    "#JUX boxminmax = [-20000,50000,-35000,35000]\n",
    "#boxminmax = [-10000,70000,0,80000]\n",
    "xmin = boxminmax[0]\n",
    "xmax = boxminmax[1]\n",
    "ymin = boxminmax[2]\n",
    "ymax = boxminmax[3]\n",
    "\n",
    "title_string = swp.time.values[t]\n",
    "fig = plt.figure(figsize=(20,15),constrained_layout=True)\n",
    "gs = gridspec.GridSpec(2, 2,fig)\n",
    "#\n",
    "ax0 = fig.add_subplot(gs[0,0])\n",
    "#p0  = zh[t].plot.pcolormesh(\n",
    "p0 = zh[t].wradlib.plot_ppi(cmap=False,\n",
    "                               levels=dbz_levels,\n",
    "                               colors=colors, extend='neither',\n",
    "                               add_colorbar=True, \n",
    "                               cbar_kwargs={'ticks': dbz_levels[0:-1]},\n",
    "                               ax=ax0\n",
    "                              )\n",
    "\n",
    "ax0.set_aspect(1)\n",
    "ax0.set_xlim([xmin,xmax])\n",
    "ax0.set_ylim([ymin,ymax])\n",
    "z.plot.contour(x='x', y='y',levels = [z_low,z_melt,z_up],\n",
    "                 colors=('k',),linestyles=('--',),linewidths=(2,))\n",
    "plt.title(title_string)\n",
    "\n",
    "\n",
    "#\n",
    "#\n",
    "ax1 = fig.add_subplot(gs[0,1:])\n",
    "p1  = zdr[t].wradlib.plot_ppi(cmap=False,\n",
    "                               levels=zdr_levels,\n",
    "                               colors=colors, extend='neither',\n",
    "                               add_colorbar=True, \n",
    "                               cbar_kwargs={'ticks': zdr_levels[0:-1]},\n",
    "                               ax=ax1\n",
    "                            )\n",
    "\n",
    "ax1.set_aspect(1)\n",
    "ax1.set_xlim([xmin,xmax])\n",
    "ax1.set_ylim([ymin,ymax])\n",
    "zh[t].plot.contour(x='x', y='y',levels = [20],\n",
    "                 colors=('grey',),linestyles=('-',),linewidths=(1,))\n",
    "z.plot.contour(x='x', y='y',levels = [z_low,z_melt,z_up],\n",
    "                 colors=('k',),linestyles=('--',),linewidths=(2,))\n",
    "plt.title(title_string)\n",
    "\n",
    "#\n",
    "ax2 = fig.add_subplot(gs[1:,0])\n",
    "p2  = rhohv[t].wradlib.plot_ppi(cmap=False, \n",
    "                               levels=rho_levels,\n",
    "                               colors=colors, extend='neither',\n",
    "                               add_colorbar=True, \n",
    "                               cbar_kwargs={'ticks': rho_levels[0:-1]},\n",
    "                               ax=ax2,\n",
    "                            )\n",
    "ax2.set_aspect(1)\n",
    "ax2.set_xlim([xmin,xmax])\n",
    "ax2.set_ylim([ymin,ymax])\n",
    "fig = plt.gcf()\n",
    "ax = plt.gca()\n",
    "z.plot.contour(x='x', y='y',levels = [z_low,z_melt,z_up],\n",
    "                 colors=('k',),linestyles=('--',),linewidths=(2,))\n",
    "plt.title(title_string)\n",
    "\n",
    "#\n",
    "ax3 = fig.add_subplot(gs[1:,1:])\n",
    "p3  = phidp[t].wradlib.plot_ppi(cmap=False,\n",
    "                               levels=phi_levels,\n",
    "                               colors=colors, extend='neither',\n",
    "                               add_colorbar=True, \n",
    "                               #cbar_kwargs={'ticks': phi_levels[0:-1]},\n",
    "                               ax=ax3,\n",
    "                            )\n",
    "ax3.set_aspect(1)\n",
    "ax3.set_xlim([xmin,xmax])\n",
    "ax3.set_ylim([ymin,ymax])\n",
    "zh[t].plot.contour(x='x', y='y',levels = [20],\n",
    "                 colors=('grey',),linestyles=('-',),linewidths=(1,))\n",
    "z.plot.contour(x='x', y='y',levels = [z_low,z_melt,z_up],\n",
    "                 colors=('k',),linestyles=('--',),linewidths=(2,))\n",
    "plt.title(title_string)\n",
    "\n",
    "figname = location + \"_\" + elv_angle + \"_\" + str(title_string) + \".png\"\n",
    "plt.savefig(figname)"
   ]
  },
  {
   "cell_type": "markdown",
   "metadata": {},
   "source": [
    "## Dynamic Plots"
   ]
  },
  {
   "cell_type": "code",
   "execution_count": null,
   "metadata": {},
   "outputs": [],
   "source": [
    "zh_plot = zh.hvplot.quadmesh(groupby='time',x='x', y='y', \n",
    "                   frame_width=400, aspect=1, rasterize=True,\n",
    "                   clim=(min(dbz_levels),max(dbz_levels)), cmap=colors)\n",
    "zh_plot = zh_plot.options(color_levels=list(dbz_levels))\n",
    "zh_plot"
   ]
  },
  {
   "cell_type": "code",
   "execution_count": null,
   "metadata": {},
   "outputs": [],
   "source": [
    "zdr_plot = zdr.hvplot.quadmesh(groupby='time',x='x', y='y', \n",
    "                   frame_width=400, aspect=1, rasterize=True,\n",
    "                   clim=(min(zdr_levels),max(zdr_levels)), cmap=colors)\n",
    "zdr_plot = zdr_plot.options(color_levels=list(zdr_levels))\n",
    "zdr_plot"
   ]
  },
  {
   "cell_type": "code",
   "execution_count": null,
   "metadata": {},
   "outputs": [],
   "source": [
    "rhohv_plot = rhohv.hvplot.quadmesh(groupby='time',x='x', y='y', \n",
    "                   frame_width=300, aspect=1, rasterize=True,\n",
    "                   clim=(min(rho_levels),max(rho_levels)), cmap=colors)\n",
    "rhohv_plot = rhohv_plot.options(color_levels=list(rho_levels))\n",
    "rhohv_plot"
   ]
  },
  {
   "cell_type": "code",
   "execution_count": null,
   "metadata": {},
   "outputs": [],
   "source": [
    "phidp_plot = phidp.hvplot.quadmesh(groupby='time',x='x', y='y', \n",
    "                   frame_width=300, aspect=1, rasterize=True,\n",
    "                   clim=(min(phi_levels),max(phi_levels)), cmap=colors)\n",
    "phidp_plot = phidp_plot.options(color_levels=list(phi_levels))\n",
    "phidp_plot"
   ]
  },
  {
   "cell_type": "code",
   "execution_count": null,
   "metadata": {},
   "outputs": [],
   "source": []
  },
  {
   "cell_type": "code",
   "execution_count": null,
   "metadata": {},
   "outputs": [],
   "source": []
  },
  {
   "cell_type": "code",
   "execution_count": null,
   "metadata": {},
   "outputs": [],
   "source": []
  },
  {
   "cell_type": "code",
   "execution_count": null,
   "metadata": {},
   "outputs": [],
   "source": []
  }
 ],
 "metadata": {
  "kernelspec": {
   "display_name": "prom [conda env:prom]",
   "language": "python",
   "name": "conda-env-prom-py"
  },
  "language_info": {
   "codemirror_mode": {
    "name": "ipython",
    "version": 3
   },
   "file_extension": ".py",
   "mimetype": "text/x-python",
   "name": "python",
   "nbconvert_exporter": "python",
   "pygments_lexer": "ipython3",
   "version": "3.8.3"
  }
 },
 "nbformat": 4,
 "nbformat_minor": 4
}
