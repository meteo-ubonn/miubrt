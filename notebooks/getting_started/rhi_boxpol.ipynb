{
 "cells": [
  {
   "cell_type": "markdown",
   "metadata": {},
   "source": [
    "This notebook is part of [miubrt](https://github.com/meteo-ubonn/miubrt).\n",
    "\n",
    "Copyright (c) [miubrt developers](https://github.com/meteo-ubonn/miubrt/blob/main/CONTRIBUTORS.txt). \n",
    "Distributed under the MIT License. See [LICENSE.txt](https://github.com/meteo-ubonn/miubrt/blob/main/LICENSE.txt) for more info."
   ]
  },
  {
   "cell_type": "markdown",
   "metadata": {},
   "source": [
    "# Create NetCDF4 output - Explore BoXPol/JuXPol\n",
    "<div class=\"alert alert-info\">\n",
    "\n",
    "**User Info** <br>\n",
    " Global Data - User Input \n",
    " \n",
    " start_time, end_time, location and sweep\n",
    " \n",
    " location = \"BoXPol\" or \"JuXPol\"  (X-band radar)\n",
    "   \n",
    "</div>\n",
    " "
   ]
  },
  {
   "cell_type": "code",
   "execution_count": null,
   "metadata": {},
   "outputs": [],
   "source": [
    "import sys\n",
    "import warnings\n",
    "warnings.filterwarnings('ignore')"
   ]
  },
  {
   "cell_type": "code",
   "execution_count": null,
   "metadata": {},
   "outputs": [],
   "source": [
    "import datetime as dt\n",
    "import numpy as np\n",
    "import dask\n",
    "import wradlib as wrl\n",
    "import xarray as xr"
   ]
  },
  {
   "cell_type": "code",
   "execution_count": null,
   "metadata": {},
   "outputs": [],
   "source": [
    "# for using local development version, uncomment next lines otherwise installed `miubrt` version will be used\n",
    "miubrt_dir = \"../../\"\n",
    "if sys.path[0] != miubrt_dir:\n",
    "     sys.path.insert(0, \"../../\")"
   ]
  },
  {
   "cell_type": "code",
   "execution_count": null,
   "metadata": {},
   "outputs": [],
   "source": [
    "import miubrt as mrt"
   ]
  },
  {
   "cell_type": "markdown",
   "metadata": {},
   "source": [
    "# Global Data - USER INPUT"
   ]
  },
  {
   "cell_type": "code",
   "execution_count": null,
   "metadata": {},
   "outputs": [],
   "source": [
    "start_time = dt.datetime(2015, 7, 5, 14, 0)\n",
    "end_time   = dt.datetime(2015, 7, 5, 17, 30, 0)\n",
    "location   = \"BoXPol\"\n",
    "# User Input End #\n",
    "\n",
    "if location == \"BoXPol\":\n",
    "    sname  = \"n_rhi_lacros\"\n",
    "    sweep  = 0\n",
    "elif location == \"JuXPol\":\n",
    "    sname  = \"RHI_05\"\n",
    "    sweep = 0\n",
    "output_path = \"\""
   ]
  },
  {
   "cell_type": "markdown",
   "metadata": {},
   "source": [
    "# Create Netcdf Dataset of wanted radar data"
   ]
  },
  {
   "cell_type": "code",
   "execution_count": null,
   "metadata": {},
   "outputs": [],
   "source": [
    "fname_raw = mrt.io.create_netcdf_dataset(location, sname, start_time, end_time, sweep, \n",
    "                                         outpath=output_path, engine='h5netcdf', chunks=None)\n",
    "fname_raw"
   ]
  },
  {
   "cell_type": "markdown",
   "metadata": {},
   "source": [
    "# Load and Explore Dataset"
   ]
  },
  {
   "cell_type": "code",
   "execution_count": null,
   "metadata": {},
   "outputs": [],
   "source": [
    "import matplotlib as mpl\n",
    "import matplotlib.pyplot as plt\n",
    "plt.rcParams.update({'font.size': 16})\n",
    "from matplotlib import gridspec\n",
    "import hvplot\n",
    "import hvplot.xarray\n",
    "import holoviews as hv"
   ]
  },
  {
   "cell_type": "markdown",
   "metadata": {},
   "source": [
    "## Load"
   ]
  },
  {
   "cell_type": "code",
   "execution_count": null,
   "metadata": {},
   "outputs": [],
   "source": [
    "swp = xr.open_dataset(fname_raw,chunks={\"time\": 12})"
   ]
  },
  {
   "cell_type": "code",
   "execution_count": null,
   "metadata": {},
   "outputs": [],
   "source": [
    "swp  = swp.chunk()\n",
    "rh   = swp['range']\n",
    "th   = swp['elevation']  \n",
    "#\n",
    "zh    = swp['DBZH']\n",
    "zdr   = swp['ZDR']\n",
    "kdp   = swp['KDP']\n",
    "rhohv   = swp['RHOHV']\n",
    "phidp   = swp['PHIDP']\n",
    "zdr_off = zdr + 0.3\n",
    "zh_off  = zh + 1.0"
   ]
  },
  {
   "cell_type": "markdown",
   "metadata": {},
   "source": [
    "## Diagnostic Plots"
   ]
  },
  {
   "cell_type": "code",
   "execution_count": null,
   "metadata": {},
   "outputs": [],
   "source": [
    "colors = ('#00f8f8', '#01b8fb', '#0000fa', '#00ff00', '#00d000', '#009400', \n",
    "          '#ffff00', '#f0cc00', '#ff9e00', '#ff0000', '#e40000', '#cc0000', \n",
    "          '#ff00ff', '#a06cd5')\n",
    "\n",
    "dbz_levels=  [ -5, 0, 5, 10, 15, 20, 25, 30, 35, 40, 45, 50, 55, 60]\n",
    "zdr_levels = [-1.,-0.5,-0.4,-0.3,-0.2,-0.1,0.0, 0.1, 0.2, 0.3, 0.4, 0.5, 0.6, 0.8]\n",
    "kdp_levels = [-1., -0.5, -0.1, 0.0, 0.05, 0.10, 0.20, 0.30, 0.40, 0.60, 0.80, 1., 2., 3.]\n",
    "rho_levels = [0.2,0.4,0.5, 0.7, 0.8, 0.94, 0.95, 0.96, 0.97, 0.98, 0.985, 0.99, 0.995, 1.0] \n",
    "#0.7,0.8, 0.85, 0.9, 0.92\n",
    "phi_levels = [0, 5, 10, 15, 20, 25, 30, 40, 50, 60, 70, 80, 90, 100]\n",
    "phi_levels = [100, 105, 110, 115, 120, 125, 130, 140, 150, 160, 170, 180, 190, 200]\n",
    "phi_levels = [-100, -90, -80, -70, -60, -50, -40, -30, 25, -20, -15, -10, -5, 0]"
   ]
  },
  {
   "cell_type": "code",
   "execution_count": null,
   "metadata": {},
   "outputs": [],
   "source": [
    "t=16\n",
    "boxminmax = [0,50,0,8]\n",
    "\n",
    "##\n",
    "xmin = boxminmax[0]\n",
    "xmax = boxminmax[1]\n",
    "ymin = boxminmax[2]\n",
    "ymax = boxminmax[3]\n",
    "\n",
    "title_string = swp.time.values[t]\n",
    "az_angle     = str(int(swp.azimuth.values[0,0]))\n",
    "#\n",
    "fig = plt.figure(figsize=(20,15),constrained_layout=True)\n",
    "gs = gridspec.GridSpec(2, 2,fig)\n",
    "#\n",
    "ax0 = fig.add_subplot(gs[0,0])\n",
    "p0  = wrl.vis.plot_rhi(zh_off[t],r=rh,th=th,\n",
    "                          levels=dbz_levels,colors=colors,\n",
    "                          add_colorbar=True, \n",
    "                          cmap=False,\n",
    "                          cbar_kwargs={'ticks': dbz_levels[0:-1]},\n",
    "                          rf=1e3,ax=ax0)\n",
    "ax0.set_xlim(xmin,xmax)\n",
    "ax0.set_ylim(ymin,ymax)\n",
    "ylabel = ax0.set_xlabel('Ground Range [km]')\n",
    "ylabel = ax0.set_ylabel('Height [km]')\n",
    "plt.title(title_string)\n",
    "\n",
    "#\n",
    "ax1 = fig.add_subplot(gs[0,1:])\n",
    "p1  = wrl.vis.plot_rhi(zdr_off[t],r=rh,th=th,\n",
    "                          levels=zdr_levels,colors=colors,\n",
    "                          add_colorbar=True, \n",
    "                          cmap=False,\n",
    "                          cbar_kwargs={'ticks': zdr_levels[0:-1]},\n",
    "                          rf=1e3,ax=ax1)\n",
    "ax1.set_xlim(xmin,xmax)\n",
    "ax1.set_ylim(ymin,ymax)\n",
    "ylabel = ax1.set_xlabel('Ground Range [km]')\n",
    "ylabel = ax1.set_ylabel('Height [km]')\n",
    "plt.title(title_string)\n",
    "#\n",
    "ax2 = fig.add_subplot(gs[1:,0])\n",
    "p2  = wrl.vis.plot_rhi(rhohv[t],r=rh,th=th,\n",
    "                          levels=rho_levels,colors=colors,\n",
    "                          add_colorbar=True, \n",
    "                          cmap=False,\n",
    "                          cbar_kwargs={'ticks': rho_levels[0:-1]},\n",
    "                          rf=1e3,ax=ax2)\n",
    "ax2.set_xlim(xmin,xmax)\n",
    "ax2.set_ylim(ymin,ymax)\n",
    "ylabel = ax2.set_xlabel('Ground Range [km]')\n",
    "ylabel = ax2.set_ylabel('Height [km]')\n",
    "plt.title(title_string)\n",
    "#\n",
    "ax3 = fig.add_subplot(gs[1:,1:])\n",
    "p3  = wrl.vis.plot_rhi(phidp[t],r=rh,th=th,\n",
    "                          levels=phi_levels,colors=colors,\n",
    "                          add_colorbar=True, \n",
    "                          cmap=False,\n",
    "                          cbar_kwargs={'ticks': phi_levels[0:-1]},\n",
    "                          rf=1e3,ax=ax3)\n",
    "ax3.set_xlim(xmin,xmax)\n",
    "ax3.set_ylim(ymin,ymax)\n",
    "ylabel = ax3.set_xlabel('Ground Range [km]')\n",
    "ylabel = ax3.set_ylabel('Height [km]')\n",
    "plt.title(title_string)\n",
    "\n",
    "figname = location + \"_\" + az_angle + \"_\" + str(title_string) + \".png\"\n",
    "plt.savefig(figname)"
   ]
  },
  {
   "cell_type": "code",
   "execution_count": null,
   "metadata": {},
   "outputs": [],
   "source": []
  },
  {
   "cell_type": "code",
   "execution_count": null,
   "metadata": {},
   "outputs": [],
   "source": []
  }
 ],
 "metadata": {
  "kernelspec": {
   "display_name": "prom [conda env:prom]",
   "language": "python",
   "name": "conda-env-prom-py"
  },
  "language_info": {
   "codemirror_mode": {
    "name": "ipython",
    "version": 3
   },
   "file_extension": ".py",
   "mimetype": "text/x-python",
   "name": "python",
   "nbconvert_exporter": "python",
   "pygments_lexer": "ipython3",
   "version": "3.8.3"
  }
 },
 "nbformat": 4,
 "nbformat_minor": 4
}
